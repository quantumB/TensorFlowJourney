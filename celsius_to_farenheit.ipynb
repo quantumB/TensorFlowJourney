{
  "nbformat": 4,
  "nbformat_minor": 0,
  "metadata": {
    "colab": {
      "name": "celsius to farenheit.ipynb",
      "provenance": [],
      "authorship_tag": "ABX9TyP9gAVsWBIxyEKqclQhi48H",
      "include_colab_link": true
    },
    "kernelspec": {
      "name": "python3",
      "display_name": "Python 3"
    }
  },
  "cells": [
    {
      "cell_type": "markdown",
      "metadata": {
        "id": "view-in-github",
        "colab_type": "text"
      },
      "source": [
        "<a href=\"https://colab.research.google.com/github/quantumB/TensorFlowJourney/blob/master/celsius_to_farenheit.ipynb\" target=\"_parent\"><img src=\"https://colab.research.google.com/assets/colab-badge.svg\" alt=\"Open In Colab\"/></a>"
      ]
    },
    {
      "cell_type": "code",
      "metadata": {
        "id": "MfUjGacF1AWH",
        "colab_type": "code",
        "colab": {}
      },
      "source": [
        "import tensorflow as tf\n",
        "import numpy as np\n",
        "import logging\n",
        "logger = tf.get_logger()\n",
        "logger.setLevel(logging.ERROR)\n"
      ],
      "execution_count": 0,
      "outputs": []
    },
    {
      "cell_type": "code",
      "metadata": {
        "id": "LMztq0bK2mOz",
        "colab_type": "code",
        "outputId": "1fd66410-dcf9-4e9a-fa72-a98191ae3147",
        "colab": {
          "base_uri": "https://localhost:8080/",
          "height": 136
        }
      },
      "source": [
        "celsius = np.array([-40, -10,  0,  8, 15, 22,  38], dtype=float)\n",
        "farenheit = np.array([-40,  14, 32, 46, 59, 72, 100], dtype=float)\n",
        "\n",
        "for i,c in enumerate(celsius):\n",
        "  print(\"{} degrees Celsius = {} degrees Farenheit\".format(c, farenheit[i]))\n"
      ],
      "execution_count": 0,
      "outputs": [
        {
          "output_type": "stream",
          "text": [
            "-40.0 degrees Celsius = -40.0 degrees Farenheit\n",
            "-10.0 degrees Celsius = 14.0 degrees Farenheit\n",
            "0.0 degrees Celsius = 32.0 degrees Farenheit\n",
            "8.0 degrees Celsius = 46.0 degrees Farenheit\n",
            "15.0 degrees Celsius = 59.0 degrees Farenheit\n",
            "22.0 degrees Celsius = 72.0 degrees Farenheit\n",
            "38.0 degrees Celsius = 100.0 degrees Farenheit\n"
          ],
          "name": "stdout"
        }
      ]
    },
    {
      "cell_type": "markdown",
      "metadata": {
        "id": "KZNdsvST-pq7",
        "colab_type": "text"
      },
      "source": [
        ""
      ]
    },
    {
      "cell_type": "code",
      "metadata": {
        "id": "0k1J64kl4aWU",
        "colab_type": "code",
        "outputId": "3312fd18-c509-43b5-c58e-befbd31df2d1",
        "colab": {
          "base_uri": "https://localhost:8080/",
          "height": 51
        }
      },
      "source": [
        "l0 = tf.keras.layers.Dense(units=1, input_shape=[1])\n",
        "model = tf.keras.Sequential([l0])\n",
        "model.compile(loss='mean_squared_error', optimizer=tf.keras.optimizers.Adam(0.1))\n",
        "history = model.fit(celsius, farenheit, epochs=500, verbose=False)\n",
        "print(\"Finished training the model\")\n",
        "model.predict([100.0])"
      ],
      "execution_count": 0,
      "outputs": [
        {
          "output_type": "stream",
          "text": [
            "Finished training the model\n"
          ],
          "name": "stdout"
        },
        {
          "output_type": "execute_result",
          "data": {
            "text/plain": [
              "array([[211.31717]], dtype=float32)"
            ]
          },
          "metadata": {
            "tags": []
          },
          "execution_count": 11
        }
      ]
    },
    {
      "cell_type": "code",
      "metadata": {
        "id": "0U2UI99V-9M8",
        "colab_type": "code",
        "colab": {}
      },
      "source": [
        ""
      ],
      "execution_count": 0,
      "outputs": []
    }
  ]
}